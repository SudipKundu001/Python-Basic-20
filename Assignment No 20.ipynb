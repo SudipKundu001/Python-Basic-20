{
 "cells": [
  {
   "cell_type": "markdown",
   "id": "9bb8e02c",
   "metadata": {},
   "source": [
    ">__1. Set the variable test1 to the string 'This is a test of the emergency text system,' and save test1 to a file named test.txt.__"
   ]
  },
  {
   "cell_type": "code",
   "execution_count": 1,
   "id": "5546015a",
   "metadata": {},
   "outputs": [],
   "source": [
    "test1 = \"This is a test of the emergency text system,\"\n",
    "file = open('test.txt', 'w')\n",
    "file.write(test1)\n",
    "file.close()"
   ]
  },
  {
   "cell_type": "markdown",
   "id": "6aa8c221",
   "metadata": {},
   "source": [
    ">__2. Read the contents of the file test.txt into the variable test2. Is there a difference between test 1 and test 2?__"
   ]
  },
  {
   "cell_type": "code",
   "execution_count": 2,
   "id": "7db4efb2",
   "metadata": {},
   "outputs": [
    {
     "data": {
      "text/plain": [
       "'This is a test of the emergency text system,'"
      ]
     },
     "execution_count": 2,
     "metadata": {},
     "output_type": "execute_result"
    }
   ],
   "source": [
    "f = open('test.txt','r')\n",
    "test2 = f.read()\n",
    "test2"
   ]
  },
  {
   "cell_type": "markdown",
   "id": "f2b0c023",
   "metadata": {},
   "source": [
    "No, there is no difference between test1 and test2"
   ]
  },
  {
   "cell_type": "markdown",
   "id": "bb0eeb91",
   "metadata": {},
   "source": [
    ">__3. Create a CSV file called books.csv by using these lines:__\n",
    "\n",
    "&emsp;&emsp;title,author,year <br>\n",
    "&emsp;&emsp;The Weirdstone of Brisingamen,Alan Garner,1960 <br>\n",
    "&emsp;&emsp;Perdido Street Station,China Miéville,2000  <br>\n",
    "&emsp;&emsp;Thud!,Terry Pratchett,2005 <br>\n",
    "&emsp;&emsp;The Spellman Files,Lisa Lutz,2007  <br>\n",
    "&emsp;&emsp;Small Gods,Terry Pratchett,1992  <br>\n"
   ]
  },
  {
   "cell_type": "code",
   "execution_count": 3,
   "id": "90d66ef6",
   "metadata": {},
   "outputs": [],
   "source": [
    "import csv\n",
    "\n",
    "fields = ['title','author','year']\n",
    "rows = [ ['The Weirdstone of Brisingamen','Alan Garner',1960],\n",
    "         ['Perdido Street Station','China Miéville',2000],\n",
    "         ['Thud!','Terry Pratchett',2005],\n",
    "         ['The Spellman Files','Lisa Lutz',2007],\n",
    "         ['Small Gods','Terry Pratchett',1992] ]\n",
    "\n",
    "filename='books.csv'\n",
    "\n",
    "with open(filename, 'w') as csvfile: \n",
    "    csvwriter = csv.writer(csvfile) \n",
    "    csvwriter.writerow(fields) \n",
    "    csvwriter.writerows(rows)"
   ]
  },
  {
   "cell_type": "code",
   "execution_count": 6,
   "id": "01d2d77d",
   "metadata": {},
   "outputs": [
    {
     "data": {
      "text/plain": [
       "'title,author,year\\n\\nThe Weirdstone of Brisingamen,Alan Garner,1960\\n\\nPerdido Street Station,China Miéville,2000\\n\\nThud!,Terry Pratchett,2005\\n\\nThe Spellman Files,Lisa Lutz,2007\\n\\nSmall Gods,Terry Pratchett,1992\\n\\n'"
      ]
     },
     "execution_count": 6,
     "metadata": {},
     "output_type": "execute_result"
    }
   ],
   "source": [
    "open('books.csv','r').read()"
   ]
  },
  {
   "cell_type": "markdown",
   "id": "790fa0de",
   "metadata": {},
   "source": [
    ">__4. Use the sqlite3 module to create a SQLite database called books.db, and a table called books with these fields: title (text), author (text), and year (integer).__"
   ]
  },
  {
   "cell_type": "code",
   "execution_count": null,
   "id": "1843bd25",
   "metadata": {},
   "outputs": [],
   "source": [
    "import sqlite3\n",
    "\n",
    "db = sqlite3.connect('books.db')\n",
    "cursor = db.cursor()\n",
    "cursor.execute('''CREATE TABLE books(title TEXT, author TEXT, year INT)''')\n",
    "db.commit()"
   ]
  },
  {
   "cell_type": "markdown",
   "id": "5e92642d",
   "metadata": {},
   "source": [
    ">__5. Read books.csv and insert its data into the book table.__"
   ]
  },
  {
   "cell_type": "code",
   "execution_count": null,
   "id": "09794271",
   "metadata": {},
   "outputs": [],
   "source": [
    "open('books.csv','r').read()"
   ]
  },
  {
   "cell_type": "code",
   "execution_count": null,
   "id": "40e666c1",
   "metadata": {},
   "outputs": [],
   "source": [
    "db.execute(\"INSERT INTO books (TITLE,AUTHOR,YEAR) \\\n",
    "        VALUES ('The Weirdstone of Brisingamen','Alan Garner',1960)\");\n",
    "db.execute(\"INSERT INTO books (TITLE,AUTHOR,YEAR) \\\n",
    "        VALUES ('Perdido Street Station','China Miéville',2000)\");\n",
    "db.execute(\"INSERT INTO books (TITLE,AUTHOR,YEAR) \\\n",
    "        VALUES ('Thud!','Terry Pratchett',2005)\");\n",
    "db.execute(\"INSERT INTO books (TITLE,AUTHOR,YEAR) \\\n",
    "        VALUES ('The Spellman Files','Lisa Lutz',2007)\");\n",
    "db.execute(\"INSERT INTO books (TITLE,AUTHOR,YEAR) \\\n",
    "        VALUES ('Small Gods','Terry Pratchett',1992)\");\n",
    "\n",
    "\n",
    "db.commit()"
   ]
  },
  {
   "cell_type": "code",
   "execution_count": null,
   "id": "3fe780cf",
   "metadata": {},
   "outputs": [],
   "source": [
    "cursor.execute(\"SELECT name FROM sqlite_master WHERE type='table';\")\n",
    "print(cursor.fetchall())"
   ]
  },
  {
   "cell_type": "code",
   "execution_count": 7,
   "id": "785a52c2",
   "metadata": {},
   "outputs": [],
   "source": [
    "cur = db.execute(\"SELECT * from books\")"
   ]
  },
  {
   "cell_type": "code",
   "execution_count": 8,
   "id": "8aae63f2",
   "metadata": {},
   "outputs": [
    {
     "name": "stdout",
     "output_type": "stream",
     "text": [
      "('The Weirdstone of Brisingamen', 'Alan Garner', 1960)\n",
      "('Perdido Street Station', 'China Miéville', 2000)\n",
      "('Thud!', 'Terry Pratchett', 2005)\n",
      "('The Spellman Files', 'Lisa Lutz', 2007)\n",
      "('Small Gods', 'Terry Pratchett', 1992)\n"
     ]
    }
   ],
   "source": [
    "for i in cur :\n",
    "    print(i)"
   ]
  },
  {
   "cell_type": "markdown",
   "id": "5c70beec",
   "metadata": {},
   "source": [
    ">__6. Select and print the title column from the book table in alphabetical order.__"
   ]
  },
  {
   "cell_type": "code",
   "execution_count": 5,
   "id": "14421f4d",
   "metadata": {},
   "outputs": [
    {
     "name": "stdout",
     "output_type": "stream",
     "text": [
      "('Perdido Street Station',)\n",
      "('Small Gods',)\n",
      "('The Spellman Files',)\n",
      "('The Weirdstone of Brisingamen',)\n",
      "('Thud!',)\n"
     ]
    }
   ],
   "source": [
    "data = cursor.execute('''SELECT title FROM books ORDER BY title ASC''')\n",
    "for i in data:\n",
    "    print (i)"
   ]
  },
  {
   "cell_type": "markdown",
   "id": "3102275a",
   "metadata": {},
   "source": [
    ">__7. From the book table, select and print all columns in the order of publication.__"
   ]
  },
  {
   "cell_type": "code",
   "execution_count": 4,
   "id": "f49a96c2",
   "metadata": {},
   "outputs": [
    {
     "name": "stdout",
     "output_type": "stream",
     "text": [
      "('The Weirdstone of Brisingamen', 'Alan Garner', 1960)\n",
      "('Small Gods', 'Terry Pratchett', 1992)\n",
      "('Perdido Street Station', 'China Miéville', 2000)\n",
      "('Thud!', 'Terry Pratchett', 2005)\n",
      "('The Spellman Files', 'Lisa Lutz', 2007)\n"
     ]
    }
   ],
   "source": [
    "table_data = cursor.execute('''SELECT * FROM books ORDER BY year ASC''')\n",
    "for i in table_data:\n",
    "    print(i)"
   ]
  },
  {
   "cell_type": "markdown",
   "id": "618d3d87",
   "metadata": {},
   "source": [
    ">__8. Use the sqlalchemy module to connect to the sqlite3 database books.db that you just made in exercise 6.__"
   ]
  },
  {
   "cell_type": "code",
   "execution_count": 1,
   "id": "437b186c",
   "metadata": {},
   "outputs": [
    {
     "name": "stdout",
     "output_type": "stream",
     "text": [
      "('Perdido Street Station',)\n",
      "('Small Gods',)\n",
      "('The Spellman Files',)\n",
      "('The Weirdstone of Brisingamen',)\n",
      "('Thud!',)\n"
     ]
    }
   ],
   "source": [
    "import sqlalchemy\n",
    "conn = sqlalchemy.create_engine('sqlite:///books.db')\n",
    "sql = 'select title from books order by title asc'\n",
    "rows = conn.execute(sql)\n",
    "for row in rows:\n",
    "    print(row)"
   ]
  },
  {
   "cell_type": "markdown",
   "id": "5240e3d1",
   "metadata": {},
   "source": [
    ">__9. Install the Redis server and the Python redis library (pip install redis) on your computer. Create a Redis hash called test with the fields count (1) and name ('Fester Bestertester'). Print all the fields for test.__"
   ]
  },
  {
   "cell_type": "code",
   "execution_count": 11,
   "id": "dd2a5792",
   "metadata": {},
   "outputs": [
    {
     "name": "stdout",
     "output_type": "stream",
     "text": [
      "Collecting redis\n",
      "  Downloading redis-4.1.3-py3-none-any.whl (173 kB)\n",
      "Requirement already satisfied: packaging>=20.4 in c:\\users\\admin\\anaconda3\\lib\\site-packages (from redis) (20.9)\n",
      "Collecting deprecated>=1.2.3\n",
      "  Downloading Deprecated-1.2.13-py2.py3-none-any.whl (9.6 kB)\n",
      "Requirement already satisfied: wrapt<2,>=1.10 in c:\\users\\admin\\anaconda3\\lib\\site-packages (from deprecated>=1.2.3->redis) (1.12.1)\n",
      "Requirement already satisfied: pyparsing>=2.0.2 in c:\\users\\admin\\anaconda3\\lib\\site-packages (from packaging>=20.4->redis) (2.4.7)\n",
      "Installing collected packages: deprecated, redis\n",
      "Successfully installed deprecated-1.2.13 redis-4.1.3\n"
     ]
    }
   ],
   "source": [
    "!pip install redis"
   ]
  },
  {
   "cell_type": "code",
   "execution_count": null,
   "id": "c8885523",
   "metadata": {},
   "outputs": [],
   "source": [
    "import redis\n",
    "conn = redis.Redis()\n",
    "conn.delete('test')\n",
    "conn.hmset('test', {'count': 1, 'name': 'Fester Bestertester'}) \n",
    "conn.hgetall('test')"
   ]
  },
  {
   "cell_type": "markdown",
   "id": "869bd316",
   "metadata": {},
   "source": [
    ">__10. Increment the count field of test and print it.__"
   ]
  },
  {
   "cell_type": "code",
   "execution_count": null,
   "id": "48a798db",
   "metadata": {},
   "outputs": [],
   "source": [
    "conn.hincrby('test', 'count', 3)\n",
    "conn.hget('test', 'count')"
   ]
  }
 ],
 "metadata": {
  "kernelspec": {
   "display_name": "Python 3",
   "language": "python",
   "name": "python3"
  },
  "language_info": {
   "codemirror_mode": {
    "name": "ipython",
    "version": 3
   },
   "file_extension": ".py",
   "mimetype": "text/x-python",
   "name": "python",
   "nbconvert_exporter": "python",
   "pygments_lexer": "ipython3",
   "version": "3.8.8"
  }
 },
 "nbformat": 4,
 "nbformat_minor": 5
}
